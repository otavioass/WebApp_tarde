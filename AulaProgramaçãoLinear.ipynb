{
  "nbformat": 4,
  "nbformat_minor": 0,
  "metadata": {
    "colab": {
      "provenance": [],
      "authorship_tag": "ABX9TyP956QE8Ygrf/grmVfRS/+r",
      "include_colab_link": true
    },
    "kernelspec": {
      "name": "python3",
      "display_name": "Python 3"
    },
    "language_info": {
      "name": "python"
    }
  },
  "cells": [
    {
      "cell_type": "markdown",
      "metadata": {
        "id": "view-in-github",
        "colab_type": "text"
      },
      "source": [
        "<a href=\"https://colab.research.google.com/github/otavioass/WebApp_tarde/blob/master/AulaPrograma%C3%A7%C3%A3oLinear.ipynb\" target=\"_parent\"><img src=\"https://colab.research.google.com/assets/colab-badge.svg\" alt=\"Open In Colab\"/></a>"
      ]
    },
    {
      "cell_type": "code",
      "source": [
        "pip install pandas"
      ],
      "metadata": {
        "colab": {
          "base_uri": "https://localhost:8080/"
        },
        "id": "B7C5-d4rDTo2",
        "outputId": "975e50af-eb4d-47ac-ef16-c9d6aad9f4bd"
      },
      "execution_count": 9,
      "outputs": [
        {
          "output_type": "stream",
          "name": "stdout",
          "text": [
            "Looking in indexes: https://pypi.org/simple, https://us-python.pkg.dev/colab-wheels/public/simple/\n",
            "Requirement already satisfied: pandas in /usr/local/lib/python3.10/dist-packages (1.5.3)\n",
            "Requirement already satisfied: python-dateutil>=2.8.1 in /usr/local/lib/python3.10/dist-packages (from pandas) (2.8.2)\n",
            "Requirement already satisfied: pytz>=2020.1 in /usr/local/lib/python3.10/dist-packages (from pandas) (2022.7.1)\n",
            "Requirement already satisfied: numpy>=1.21.0 in /usr/local/lib/python3.10/dist-packages (from pandas) (1.22.4)\n",
            "Requirement already satisfied: six>=1.5 in /usr/local/lib/python3.10/dist-packages (from python-dateutil>=2.8.1->pandas) (1.16.0)\n"
          ]
        }
      ]
    },
    {
      "cell_type": "code",
      "execution_count": null,
      "metadata": {
        "id": "KkxDOnk64BIZ"
      },
      "outputs": [],
      "source": [
        "import numpy as np\n",
        "import pandas as pd\n",
        "from scipy.optimize import linprog\n",
        "\n",
        "# Função objetivo\n",
        "c=[-5,-4]\n",
        "\n",
        "# Restrições de desigualdade\n",
        "A=[[10,12.5],[2,1]]\n",
        "b=[60,6]\n",
        "\n",
        "# Restrições de igualdade\n",
        "Aeq = None\n",
        "beq = None\n",
        "\n",
        "# Definir os limites\n",
        "\n",
        "bounds = [(0,None)]*2\n",
        "\n",
        "# Otimizar a solução\n",
        "res = linprog(c, A_ub=A,b_ub=b,A_eq=Aeq,b_eq=beq, bounds=bounds,method='hights')\n",
        "\n",
        "# Criar um Data Frame para apresentar os dados\n",
        "\n",
        "df = pd.DataFrame({'x1':[res.x[0]], 'x2':[res.x[1]], 'z':[-res.fun]})\n",
        "print(df)\n",
        "\n",
        "\n",
        "\n",
        "\n"
      ]
    },
    {
      "cell_type": "code",
      "source": [
        "import numpy as np\n",
        "import pandas as pd\n",
        "from scipy.optimize import linprog\n",
        "\n",
        "# Função objetivo\n",
        "c=[-2,-3,-4]\n",
        "\n",
        "# Restrições de desigualdade\n",
        "A=[1,1,1]\n",
        "b=[30]\n",
        "\n",
        "# Restrições de igualdade\n",
        "Aeq = [2,2,3]\n",
        "beq = [60]\n",
        "\n",
        "# Definir os limites\n",
        "\n",
        "bounds = [(0,None)]*3\n",
        "\n",
        "# Otimizar a solução\n",
        "res = linprog(c, A_ub=A,b_ub=b,A_eq=Aeq,b_eq=beq, bounds=bounds,method='highs')\n",
        "\n",
        "# Criar um Data Frame para apresentar os dados\n",
        "\n",
        "if res.sucess:\n",
        "  df = pdDataFrame({'x1':[res.x[0]], 'x2':[res.x[1]], 'z':[res.fun]})\n",
        "else:\n",
        "  print(\"o problema não possui solução viavel\")"
      ],
      "metadata": {
        "id": "TT-WvcNMDh4A"
      },
      "execution_count": null,
      "outputs": []
    },
    {
      "cell_type": "code",
      "source": [],
      "metadata": {
        "id": "XYrYwpmeOS7T"
      },
      "execution_count": 14,
      "outputs": []
    },
    {
      "cell_type": "code",
      "source": [],
      "metadata": {
        "id": "99Rwp9ePOU3W"
      },
      "execution_count": null,
      "outputs": []
    },
    {
      "cell_type": "code",
      "source": [],
      "metadata": {
        "id": "EAJqOw_zMhvt"
      },
      "execution_count": null,
      "outputs": []
    }
  ]
}